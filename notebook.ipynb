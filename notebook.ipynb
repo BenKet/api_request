{
 "cells": [
  {
   "cell_type": "code",
   "execution_count": 4,
   "metadata": {},
   "outputs": [],
   "source": [
    "import requests\n",
    "import json"
   ]
  },
  {
   "cell_type": "code",
   "execution_count": 8,
   "metadata": {},
   "outputs": [
    {
     "name": "stdout",
     "output_type": "stream",
     "text": [
      "200\n"
     ]
    }
   ],
   "source": [
    "response = requests.get(\"https://randomuser.me/api/?results=5&gender=male&nat=us\")\n",
    "print(response.status_code)"
   ]
  },
  {
   "cell_type": "code",
   "execution_count": 9,
   "metadata": {},
   "outputs": [
    {
     "name": "stdout",
     "output_type": "stream",
     "text": [
      "200\n"
     ]
    }
   ],
   "source": [
    "parameters = {\"results\": 10, \"gender\": \"male\", \"nat\": \"us\"}\n",
    "response = requests.get(\"https://randomuser.me/api\", params=parameters)\n",
    "print(response.status_code)"
   ]
  },
  {
   "cell_type": "code",
   "execution_count": 26,
   "metadata": {},
   "outputs": [
    {
     "name": "stdout",
     "output_type": "stream",
     "text": [
      "Wallace\n",
      "Tim\n",
      "Brett\n",
      "Marc\n",
      "Wayne\n",
      "Flenn\n",
      "Kent\n",
      "Andrew\n",
      "Angel\n",
      "Ted\n"
     ]
    }
   ],
   "source": [
    "data = response.json()\n",
    "for user in data['results']:\n",
    "    print(user['name']['first'])"
   ]
  },
  {
   "cell_type": "code",
   "execution_count": 32,
   "metadata": {},
   "outputs": [
    {
     "name": "stdout",
     "output_type": "stream",
     "text": [
      "Jasmin Moghbeli\n",
      "Andreas Mogensen\n",
      "Satoshi Furukawa\n",
      "Konstantin Borisov\n",
      "Oleg Kononenko\n",
      "Nikolai Chub\n",
      "Loral O'Hara\n",
      "People in Space:  7\n"
     ]
    }
   ],
   "source": [
    "response = requests.get(\"http://api.open-notify.org/astros.json\")\n",
    "data = response.json()\n",
    "for user in data['people']:\n",
    "    print(user['name'])\n",
    "\n",
    "print(\"People in Space: \", len(data['people']))"
   ]
  },
  {
   "cell_type": "code",
   "execution_count": 38,
   "metadata": {},
   "outputs": [
    {
     "name": "stdout",
     "output_type": "stream",
     "text": [
      "{'message': 'success',\n",
      " 'number': 7,\n",
      " 'people': [{'craft': 'ISS', 'name': 'Jasmin Moghbeli'},\n",
      "            {'craft': 'ISS', 'name': 'Andreas Mogensen'},\n",
      "            {'craft': 'ISS', 'name': 'Satoshi Furukawa'},\n",
      "            {'craft': 'ISS', 'name': 'Konstantin Borisov'},\n",
      "            {'craft': 'ISS', 'name': 'Oleg Kononenko'},\n",
      "            {'craft': 'ISS', 'name': 'Nikolai Chub'},\n",
      "            {'craft': 'ISS', 'name': \"Loral O'Hara\"}]}\n"
     ]
    }
   ],
   "source": [
    "from pprint import pprint\n",
    "pprint(data)"
   ]
  }
 ],
 "metadata": {
  "kernelspec": {
   "display_name": "venv",
   "language": "python",
   "name": "python3"
  },
  "language_info": {
   "codemirror_mode": {
    "name": "ipython",
    "version": 3
   },
   "file_extension": ".py",
   "mimetype": "text/x-python",
   "name": "python",
   "nbconvert_exporter": "python",
   "pygments_lexer": "ipython3",
   "version": "3.10.9"
  }
 },
 "nbformat": 4,
 "nbformat_minor": 2
}
